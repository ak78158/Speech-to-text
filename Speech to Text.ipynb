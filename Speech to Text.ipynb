{
 "cells": [
  {
   "cell_type": "code",
   "execution_count": 1,
   "metadata": {},
   "outputs": [],
   "source": [
    "#imported necessary modules\n",
    "import pyttsx3 \n",
    "#initialisation\n",
    "engine = pyttsx3.init() \n",
    "\n",
    "#newVoiceRate = 50\n",
    "sen = '.......Welcome to Our Project .. In this Project we are going to Recognize the Speech, and  convert it into the text . And then we are going to save it in the directory, where our project is saved in MS Text File.. This Project was made successful only with the help of Mahesh Vaishnav. Akhilesh Kaushik. Akshansh Bhandari. Utkarsh Patel . And Rohit Kumar. of Group no. 16 .'\n",
    "\n",
    "#engine processes\n",
    "engine.say(sen) \n",
    "engine.runAndWait()"
   ]
  },
  {
   "cell_type": "code",
   "execution_count": 2,
   "metadata": {},
   "outputs": [
    {
     "name": "stdout",
     "output_type": "stream",
     "text": [
      "You said : my name is Akhilesh Kaushik I am text in explaining about pinhole camera the pinhole Camera model in this model light passes through a single point that is called camera Centre before it is projected onto a image plane as soon as another camera having same model\n"
     ]
    }
   ],
   "source": [
    "# speech recognition module\n",
    "import speech_recognition as sr\n",
    "r=sr.Recognizer()\n",
    "with sr.Microphone() as source:\n",
    "    sen = '..Hey, It seems some one has some tasks for me? Speak Anything , and I will convert it into the text file. Now You can Start Speaking:'\n",
    "    engine.say(sen)\n",
    "    engine.runAndWait()\n",
    "    audio = r.listen(source)\n",
    "try:\n",
    "    text = r.recognize_google(audio)\n",
    "    \n",
    "    print(\"You said : {}\".format(text))\n",
    "    sen='I recongnize evrything you said, now I am Going to save it into a text file.'\n",
    "    engine.say(sen)\n",
    "    engine.runAndWait()\n",
    "    f = open(\"speechToText.txt\", \"w\")\n",
    "    f.write(format(text))\n",
    "    f.close()\n",
    "    sen='File Successfully Saved'\n",
    "    engine.say(sen)\n",
    "    engine.runAndWait()\n",
    "except:\n",
    "    sen='Sorry could not recognize what you said'\n",
    "    engine.say(sen)\n",
    "    engine.runAndWait()"
   ]
  },
  {
   "cell_type": "code",
   "execution_count": null,
   "metadata": {},
   "outputs": [],
   "source": []
  }
 ],
 "metadata": {
  "kernelspec": {
   "display_name": "Python 3",
   "language": "python",
   "name": "python3"
  },
  "language_info": {
   "codemirror_mode": {
    "name": "ipython",
    "version": 3
   },
   "file_extension": ".py",
   "mimetype": "text/x-python",
   "name": "python",
   "nbconvert_exporter": "python",
   "pygments_lexer": "ipython3",
   "version": "3.7.9"
  }
 },
 "nbformat": 4,
 "nbformat_minor": 4
}
